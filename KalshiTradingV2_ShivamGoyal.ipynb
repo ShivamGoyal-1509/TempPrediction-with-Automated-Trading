{
 "cells": [
  {
   "cell_type": "code",
   "execution_count": 1,
   "metadata": {},
   "outputs": [
    {
     "name": "stdout",
     "output_type": "stream",
     "text": [
      "Requirement already satisfied: kalshi-python in /usr/local/lib/python3.11/site-packages (2.0.0)\n",
      "Requirement already satisfied: urllib3>=1.15 in /usr/local/lib/python3.11/site-packages (from kalshi-python) (2.0.5)\n",
      "Requirement already satisfied: six>=1.10 in /usr/local/lib/python3.11/site-packages (from kalshi-python) (1.16.0)\n",
      "Requirement already satisfied: certifi in /usr/local/lib/python3.11/site-packages (from kalshi-python) (2023.7.22)\n",
      "Requirement already satisfied: python-dateutil in /usr/local/lib/python3.11/site-packages (from kalshi-python) (2.8.2)\n",
      "Note: you may need to restart the kernel to use updated packages.\n"
     ]
    }
   ],
   "source": [
    "pip install kalshi-python"
   ]
  },
  {
   "cell_type": "code",
   "execution_count": 1,
   "metadata": {},
   "outputs": [],
   "source": [
    "# Welcome to the Kalshi REST v2 Starter Code!\n",
    "\n",
    "# pypi client: recommended for more advanced programmers\n",
    "import kalshi_python\n",
    "from pprint import pprint\n",
    "import numpy as np\n",
    "# starter client: recommended for all levels of programming experience (what this client is implemented using)\n",
    "from KalshiClientsBaseV2 import ExchangeClient\n",
    "import time\n",
    "import json\n",
    "import uuid\n",
    "from kalshi_python.models import *\n",
    "from datetime import datetime"
   ]
  },
  {
   "cell_type": "code",
   "execution_count": 2,
   "metadata": {},
   "outputs": [
    {
     "name": "stdout",
     "output_type": "stream",
     "text": [
      "{'exchange_active': True, 'trading_active': True}\n"
     ]
    }
   ],
   "source": [
    "# To start off, you need to have created an account at https://kalshi.com (Production) \n",
    "# or an account on the Demo https://demo.kalshi.co/\n",
    "\n",
    "# prod_email = \"\" # change these to be your personal credentials\n",
    "# prod_password = \"\" # (for extra security, we recommend using a config file)\n",
    "\n",
    "demo_email = \"Fill the email@gmail.com\" # change these to be your personal credentials\n",
    "demo_password = \"Password\" # (for extra security, we recommend using a config file)\n",
    "\n",
    "# for prod\n",
    "# prod_api_base = \"https://trading-api.kalshi.com/trade-api/v2\"\n",
    "\n",
    "# for demo\n",
    "demo_api_base = \"https://demo-api.kalshi.co/trade-api/v2\"\n",
    "\n",
    "## if wanting to test in prod:\n",
    "# exchange_client = ExchangeClient(exchange_api_base=prod_api_base, email = prod_email, password = prod_password)\n",
    "\n",
    "## if wanting to test in demo\n",
    "exchange_client = ExchangeClient(exchange_api_base = demo_api_base, email = demo_email, password = demo_password)\n",
    "\n",
    "# first we will check on the exchange status to confirm you are properly connected...\n",
    "print(exchange_client.get_exchange_status())"
   ]
  },
  {
   "cell_type": "code",
   "execution_count": 3,
   "metadata": {},
   "outputs": [
    {
     "name": "stdout",
     "output_type": "stream",
     "text": [
      "Exchange status response: \n",
      "{'exchange_active': True, 'trading_active': True}\n"
     ]
    }
   ],
   "source": [
    "config = kalshi_python.Configuration()\n",
    "# Comment the line below to use production\n",
    "config.host = 'https://demo-api.kalshi.co/trade-api/v2'\n",
    "\n",
    "# Create an API configuration passing your credentials.\n",
    "# Use this if you want the kalshi_python sdk to manage the authentication for you.\n",
    "kalshi_api = kalshi_python.ApiInstance(\n",
    "    email='Sample Email',\n",
    "    password='Sample Password',\n",
    "    configuration=config,\n",
    ")\n",
    "\n",
    "# Checks if the exchange is available.\n",
    "exchangeStatus = kalshi_api.get_exchange_status()\n",
    "print('Exchange status response: ')\n",
    "print(exchangeStatus)"
   ]
  },
  {
   "cell_type": "code",
   "execution_count": 10,
   "metadata": {},
   "outputs": [
    {
     "name": "stdout",
     "output_type": "stream",
     "text": [
      "   Location  Predicted_tempmax\n",
      "0    Austin               84.0\n",
      "1   Chicago               44.0\n",
      "2     Miami               86.0\n",
      "3  New York               53.0\n"
     ]
    }
   ],
   "source": [
    "import pandas as pd\n",
    "\n",
    "# Read the CSV file\n",
    "df = pd.read_csv('predicted_temperature_max.csv')\n",
    "if 'Unnamed: 0' in df.columns:\n",
    "    df.drop(columns=['Unnamed: 0'], inplace=True)\n",
    "# print(df)\n",
    "\n",
    "df['Predicted_tempmax'] = np.round(df['Predicted_tempmax'],0)\n",
    "df['Predicted_tempmax'] += 3\n",
    "print(df)\n",
    "\n",
    "# # Get the predicted temperature for Austin\n",
    "# predicted_temp_for_austin = df.loc[df['Location'] == 'Austin', 'predicted_tempmax'].values[0]\n",
    "# print(f\"Predicted Temperature for Austin: {predicted_temp_for_austin}\")\n"
   ]
  },
  {
   "cell_type": "code",
   "execution_count": 5,
   "metadata": {},
   "outputs": [],
   "source": [
    "def determine_market_ticker_from_response(eventResponse, predicted_max_temp):\n",
    "    for market in eventResponse.markets:\n",
    "        subtitle = market.subtitle  # Adjusted based on your object structure\n",
    "        if 'or below' in subtitle:\n",
    "            max_temp = int(subtitle.split('°')[0])\n",
    "            if predicted_max_temp <= max_temp:\n",
    "                return market.ticker.split('-')[-1]\n",
    "        elif 'or above' in subtitle:\n",
    "            min_temp = int(subtitle.split('°')[0]) + 1\n",
    "            if predicted_max_temp >= min_temp:\n",
    "                return market.ticker.split('-')[-1]\n",
    "        else:\n",
    "            # Handling ranges correctly by cleaning the string of non-numeric before conversion\n",
    "            temp_range = [int(temp.split('°')[0]) for temp in subtitle.split(' to ')]\n",
    "            if temp_range[0] <= predicted_max_temp <= temp_range[1]:\n",
    "                return market.ticker.split('-')[-1]\n",
    "    return None\n"
   ]
  },
  {
   "cell_type": "code",
   "execution_count": 6,
   "metadata": {},
   "outputs": [
    {
     "name": "stdout",
     "output_type": "stream",
     "text": [
      "\n",
      "Orderbook for market: HIGHAUS-24APR03-T79\n",
      "{'orderbook': {'no': [],\n",
      "               'yes': [[23, 1000], [24, 1000], [25, 50], [50, 20], [99, 1]]}}\n",
      "\n",
      "Orderbook for market: HIGHCHI-24APR03-B41.5\n",
      "{'orderbook': {'no': [], 'yes': [[99, 1]]}}\n",
      "\n",
      "Orderbook for market: HIGHMIA-24APR03-T84\n",
      "{'orderbook': {'no': [], 'yes': [[25, 12], [99, 1]]}}\n",
      "\n",
      "Orderbook for market: HIGHNY-24APR03-B50.5\n",
      "{'orderbook': {'no': [], 'yes': [[97, 1000], [98, 1000], [99, 1]]}}\n"
     ]
    }
   ],
   "source": [
    "seriesTickers = {\n",
    "    'New York': 'HIGHNY',\n",
    "    'Chicago': 'HIGHCHI',\n",
    "    'Austin': 'HIGHAUS',\n",
    "    'Miami': 'HIGHMIA'\n",
    "}\n",
    "today = datetime.today()\n",
    "\n",
    "# print(f\"Processing cities: {df['Location'].tolist()}\")\n",
    "\n",
    "# for index, row in df.iterrows():\n",
    "#     city = row['Location']\n",
    "#     print(f\"Processing {city}...\")\n",
    "\n",
    "# # Format the date as 'YYMMDD'\n",
    "date_str = today.strftime('%y%b%d').upper()\n",
    "for index, row in df.iterrows():\n",
    "    city = row['Location']\n",
    "    predicted_max_temp = row['Predicted_tempmax']\n",
    "    seriesTicker = seriesTickers[city]\n",
    "    \n",
    "\n",
    "    eventTicker = f'{seriesTicker}-{date_str}'\n",
    "    eventResponse = kalshi_api.get_event(eventTicker)  # Replace with actual API call\n",
    "    \n",
    "    # Parse the event response to find matching market ticker\n",
    "    # This code block assumes a function to parse and match the market ticker based on predicted temperature\n",
    "    matching_market_ticker = determine_market_ticker_from_response(eventResponse, predicted_max_temp)\n",
    "    \n",
    "    # Now you have the matching market ticker, you can retrieve the order book\n",
    "    marketTicker = f'{eventTicker}-{matching_market_ticker}'\n",
    "    orderbookResponse = kalshi_api.get_market_orderbook(marketTicker)  # Replace with actual API call\n",
    "    \n",
    "    print(f'\\nOrderbook for market: {marketTicker}')\n",
    "    # Assuming pprint is imported or defined\n",
    "    pprint(orderbookResponse)\n",
    "# print(dir(orderbookResponse))\n"
   ]
  },
  {
   "cell_type": "code",
   "execution_count": 7,
   "metadata": {},
   "outputs": [],
   "source": [
    "yes_offers = orderbookResponse.orderbook.yes\n",
    "orderbook_dict = orderbookResponse.to_dict()\n",
    "yes_offers = orderbook_dict['orderbook']['yes']\n"
   ]
  },
  {
   "cell_type": "code",
   "execution_count": 8,
   "metadata": {},
   "outputs": [
    {
     "name": "stdout",
     "output_type": "stream",
     "text": [
      "\n",
      "Order submitted for Austin: \n",
      "{'order': {'action': 'buy',\n",
      "           'client_order_id': 'ad2cc17d-d850-4b43-9afd-2d49319a5128',\n",
      "           'created_time': '2024-04-04T00:09:28.027695Z',\n",
      "           'expiration_time': None,\n",
      "           'no_price': 78,\n",
      "           'order_id': '54b56f18-6708-45f7-a55a-429accb379c5',\n",
      "           'side': 'yes',\n",
      "           'status': 'resting',\n",
      "           'ticker': 'HIGHAUS-24APR03-T79',\n",
      "           'type': 'limit',\n",
      "           'user_id': 'dbad063d-b115-48bd-a024-079c02ba5ad4',\n",
      "           'yes_price': 22}}\n",
      "\n",
      "Order submitted for Chicago: \n",
      "{'order': {'action': 'buy',\n",
      "           'client_order_id': '15d074d4-e934-4f87-a54f-d1c67ab69447',\n",
      "           'created_time': '2024-04-04T00:09:28.376481Z',\n",
      "           'expiration_time': None,\n",
      "           'no_price': 2,\n",
      "           'order_id': '0558695d-f6b7-4e28-80f4-91b0d38047b8',\n",
      "           'side': 'yes',\n",
      "           'status': 'resting',\n",
      "           'ticker': 'HIGHCHI-24APR03-B41.5',\n",
      "           'type': 'limit',\n",
      "           'user_id': 'dbad063d-b115-48bd-a024-079c02ba5ad4',\n",
      "           'yes_price': 98}}\n",
      "\n",
      "Order submitted for Miami: \n",
      "{'order': {'action': 'buy',\n",
      "           'client_order_id': '37a62375-0e38-47ef-9e4e-e754a5c7c7c8',\n",
      "           'created_time': '2024-04-04T00:09:28.734219Z',\n",
      "           'expiration_time': None,\n",
      "           'no_price': 76,\n",
      "           'order_id': 'ad6c14d1-7f39-4301-8815-2ceb3fdcc7f9',\n",
      "           'side': 'yes',\n",
      "           'status': 'resting',\n",
      "           'ticker': 'HIGHMIA-24APR03-T84',\n",
      "           'type': 'limit',\n",
      "           'user_id': 'dbad063d-b115-48bd-a024-079c02ba5ad4',\n",
      "           'yes_price': 24}}\n",
      "\n",
      "Order submitted for New York: \n",
      "{'order': {'action': 'buy',\n",
      "           'client_order_id': '06fabe5f-3916-43de-a5b8-bbfe71264af7',\n",
      "           'created_time': '2024-04-04T00:09:29.063183Z',\n",
      "           'expiration_time': None,\n",
      "           'no_price': 4,\n",
      "           'order_id': '9a69b849-a5f8-49f1-a14e-a912f844d6c6',\n",
      "           'side': 'yes',\n",
      "           'status': 'resting',\n",
      "           'ticker': 'HIGHNY-24APR03-B50.5',\n",
      "           'type': 'limit',\n",
      "           'user_id': 'dbad063d-b115-48bd-a024-079c02ba5ad4',\n",
      "           'yes_price': 96}}\n"
     ]
    }
   ],
   "source": [
    "orderbook_dict = orderbookResponse.to_dict()\n",
    "yes_offers = orderbook_dict['orderbook']['yes']\n",
    "for index, row in df.iterrows():\n",
    "    city = row['Location']\n",
    "    predicted_max_temp = row['Predicted_tempmax']\n",
    "    seriesTicker = seriesTickers[city]\n",
    "\n",
    "    eventTicker = f'{seriesTicker}-{date_str}'\n",
    "    eventResponse = kalshi_api.get_event(eventTicker)\n",
    "\n",
    "    matching_market_ticker = determine_market_ticker_from_response(eventResponse, predicted_max_temp)\n",
    "    \n",
    "    if matching_market_ticker:\n",
    "        marketTicker = f'{eventTicker}-{matching_market_ticker}'\n",
    "        orderbookResponse = kalshi_api.get_market_orderbook(marketTicker)\n",
    "        \n",
    "        # Convert the orderbookResponse to a dictionary to access 'yes' and 'no' offers\n",
    "        orderbook_dict = orderbookResponse.to_dict()\n",
    "        yes_offers = orderbook_dict['orderbook']['yes'] if 'yes' in orderbook_dict['orderbook'] else []\n",
    "        \n",
    "        if yes_offers:\n",
    "            best_yes_offer = min([offer[0] for offer in yes_offers])\n",
    "            \n",
    "            if exchangeStatus.trading_active:\n",
    "                orderUuid = str(uuid.uuid4())\n",
    "                orderResponse = kalshi_api.create_order(CreateOrderRequest(       \n",
    "                    ticker=marketTicker,\n",
    "                    action='buy',\n",
    "                    type='limit',\n",
    "                    yes_price=best_yes_offer - 1,  # Adjust based on your strategy\n",
    "                    count=1000,  # And your desired amount\n",
    "                    client_order_id=orderUuid,\n",
    "                    side='yes',\n",
    "                ))\n",
    "                print(f'\\nOrder submitted for {city}: ')\n",
    "                pprint(orderResponse)\n",
    "        else:\n",
    "            print(f'\\nNo \"yes\" offers available for {city}, no orders will be placed.')\n",
    "    else:\n",
    "        print(f'No matching market ticker found for {city} based on the predicted temperature.')\n",
    " "
   ]
  }
 ],
 "metadata": {
  "kernelspec": {
   "display_name": "Python 3 (ipykernel)",
   "language": "python",
   "name": "python3"
  },
  "language_info": {
   "codemirror_mode": {
    "name": "ipython",
    "version": 3
   },
   "file_extension": ".py",
   "mimetype": "text/x-python",
   "name": "python",
   "nbconvert_exporter": "python",
   "pygments_lexer": "ipython3",
   "version": "3.11.4"
  },
  "vscode": {
   "interpreter": {
    "hash": "1e51d4bf4e6bbe92f2ac3572d179994f6afffdaaebc6d7bcc5f1b4952a9d4584"
   }
  }
 },
 "nbformat": 4,
 "nbformat_minor": 4
}
